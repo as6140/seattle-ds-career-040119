{
 "cells": [
  {
   "cell_type": "markdown",
   "metadata": {},
   "source": [
    "# Data Visualization: Plotting with Matplotlib"
   ]
  },
  {
   "cell_type": "markdown",
   "metadata": {},
   "source": [
    "## Objectives\n",
    "\n",
    "1. Configure a Jupyter Notebook for inline visualizations with `pyplot`\n",
    "2. Create `fig` and `ax` objects with `plt.subplots()`\n",
    "3. Add titles and axis labels to a plot.\n",
    "4. Visualize data using a scatterplot.\n",
    "5. Visualize sequential data using a line plot.\n",
    "6. Visualize data using a bar chart.\n",
    "7. Explain why data scientists don't use pie charts.\n",
    "8. Use `pd.scatter_matrix()` for rapid data exploration."
   ]
  },
  {
   "cell_type": "markdown",
   "metadata": {},
   "source": [
    "### 1. Configure Jupyter for inline visualizations with `pyplot`"
   ]
  },
  {
   "cell_type": "code",
   "execution_count": null,
   "metadata": {},
   "outputs": [],
   "source": [
    "import numpy as np\n",
    "import pandas as pd\n",
    "from scipy import stats\n",
    "from matplotlib import pyplot as plt\n",
    "%matplotlib inline"
   ]
  },
  {
   "cell_type": "markdown",
   "metadata": {},
   "source": [
    "### 2. Create `fig` and `ax` objects with `plt.subplots()`"
   ]
  },
  {
   "cell_type": "markdown",
   "metadata": {},
   "source": [
    "#### 2a. Creating a figure with _one_ set of axes"
   ]
  },
  {
   "cell_type": "code",
   "execution_count": null,
   "metadata": {
    "scrolled": true
   },
   "outputs": [],
   "source": [
    "fig, ax = plt.subplots()"
   ]
  },
  {
   "cell_type": "code",
   "execution_count": null,
   "metadata": {},
   "outputs": [],
   "source": [
    "# Apply a style\n",
    "plt.style.use('ggplot')  # ggplot is the plotting library in R\n",
    "fig, ax = plt.subplots()"
   ]
  },
  {
   "cell_type": "code",
   "execution_count": null,
   "metadata": {},
   "outputs": [],
   "source": [
    "ax.scatter(0.5, 0.5)"
   ]
  },
  {
   "cell_type": "code",
   "execution_count": null,
   "metadata": {},
   "outputs": [],
   "source": [
    "fig"
   ]
  },
  {
   "cell_type": "markdown",
   "metadata": {},
   "source": [
    "#### 2(b) Creating a figure with _multiple_ axes"
   ]
  },
  {
   "cell_type": "code",
   "execution_count": null,
   "metadata": {
    "scrolled": true
   },
   "outputs": [],
   "source": [
    "fig, axs = plt.subplots(2, 2)"
   ]
  },
  {
   "cell_type": "code",
   "execution_count": null,
   "metadata": {},
   "outputs": [],
   "source": [
    "# Fix the ugliness\n",
    "fig.tight_layout()\n",
    "fig"
   ]
  },
  {
   "cell_type": "code",
   "execution_count": null,
   "metadata": {},
   "outputs": [],
   "source": [
    "# Referencing one set of axes\n",
    "ax = axs[0][0]\n",
    "ax.scatter(0.5, 0.5, color='blue')\n",
    "fig"
   ]
  },
  {
   "cell_type": "code",
   "execution_count": null,
   "metadata": {},
   "outputs": [],
   "source": [
    "# This does the same thing, for the remaining axes\n",
    "axs[0][1].scatter(0.5, 0.5, color='purple')\n",
    "axs[1][0].scatter(0.5, 0.5, color='red')\n",
    "axs[1][1].scatter(0.5, 0.5, color='green')"
   ]
  },
  {
   "cell_type": "code",
   "execution_count": null,
   "metadata": {},
   "outputs": [],
   "source": [
    "fig"
   ]
  },
  {
   "cell_type": "markdown",
   "metadata": {},
   "source": [
    "### 3. Add titles and axis labels to a plot"
   ]
  },
  {
   "cell_type": "code",
   "execution_count": null,
   "metadata": {},
   "outputs": [],
   "source": [
    "fig, ax = plt.subplots()"
   ]
  },
  {
   "cell_type": "code",
   "execution_count": null,
   "metadata": {},
   "outputs": [],
   "source": [
    "# Label the plot\n",
    "ax.set_title('Data Science Learning')\n",
    "fig"
   ]
  },
  {
   "cell_type": "code",
   "execution_count": null,
   "metadata": {},
   "outputs": [],
   "source": [
    "# Label your axes\n",
    "ax.set_xlabel('Week')\n",
    "ax.set_ylabel('Mastery (%)')\n",
    "fig"
   ]
  },
  {
   "cell_type": "code",
   "execution_count": null,
   "metadata": {},
   "outputs": [],
   "source": [
    "# Set limits\n",
    "ax.set_xlim(1, 15)\n",
    "ax.set_ylim(0, 100)\n",
    "fig"
   ]
  },
  {
   "cell_type": "markdown",
   "metadata": {},
   "source": [
    "#### 4. Visualize data using a scatterplot."
   ]
  },
  {
   "cell_type": "code",
   "execution_count": null,
   "metadata": {
    "scrolled": true
   },
   "outputs": [],
   "source": [
    "fig, ax = plt.subplots()\n",
    "\n",
    "# Label plot\n",
    "ax.set_title('Interesting Data')\n",
    "\n",
    "# Set limits\n",
    "ax.set_xlim(0, 4)\n",
    "ax.set_ylim(0, 4)\n",
    "\n",
    "# Generate data\n",
    "exponential_distribution = stats.expon()\n",
    "x = exponential_distribution.rvs(10000)\n",
    "y = exponential_distribution.rvs(10000)\n",
    "\n",
    "# Plot\n",
    "ax.scatter(x, y, color=\"purple\")"
   ]
  },
  {
   "cell_type": "markdown",
   "metadata": {},
   "source": [
    "##### What's wrong with the plot above? How is it fixed below?"
   ]
  },
  {
   "cell_type": "code",
   "execution_count": null,
   "metadata": {},
   "outputs": [],
   "source": [
    "# Set figure size\n",
    "fig, ax = plt.subplots(figsize=(5, 5))\n",
    "\n",
    "# Label plot\n",
    "ax.set_title('Interesting Data')\n",
    "\n",
    "# Set limits\n",
    "ax.set_xlim(0, 4)\n",
    "ax.set_ylim(0, 4)\n",
    "\n",
    "# Generate data\n",
    "exponential_distribution = stats.expon()\n",
    "x = exponential_distribution.rvs(10000)\n",
    "y = exponential_distribution.rvs(10000)\n",
    "\n",
    "# Plot with alpha transparency\n",
    "ax.scatter(x, y, alpha=.05, color=\"purple\")"
   ]
  },
  {
   "cell_type": "markdown",
   "metadata": {},
   "source": [
    "#### 5. Visualize sequential data using a line plot."
   ]
  },
  {
   "cell_type": "code",
   "execution_count": null,
   "metadata": {},
   "outputs": [],
   "source": [
    "fig, ax = plt.subplots()\n",
    "\n",
    "# Label plot\n",
    "ax.set_title('Data Science Learning')\n",
    "\n",
    "# Label axes\n",
    "ax.set_xlabel('Week')\n",
    "ax.set_ylabel('Mastery (%)')\n",
    "\n",
    "# Set limits\n",
    "ax.set_xlim(1, 15)\n",
    "ax.set_ylim(0, 100)\n",
    "\n",
    "x = np.arange(0, 16)\n",
    "y = 40 + x**2/4\n",
    "\n",
    "ax.plot(x, y, linestyle=\"dashed\", color=\"green\")"
   ]
  },
  {
   "cell_type": "markdown",
   "metadata": {},
   "source": [
    "#### 6. Visualize data using a bar chart."
   ]
  },
  {
   "cell_type": "markdown",
   "metadata": {},
   "source": [
    "#### 7. Explain why data scientists don't use pie charts."
   ]
  },
  {
   "cell_type": "markdown",
   "metadata": {},
   "source": [
    "#### 8. Use `pd.scatter_matrix()` for rapid data exploration."
   ]
  }
 ],
 "metadata": {
  "kernelspec": {
   "display_name": "Python 3",
   "language": "python",
   "name": "python3"
  },
  "language_info": {
   "codemirror_mode": {
    "name": "ipython",
    "version": 3
   },
   "file_extension": ".py",
   "mimetype": "text/x-python",
   "name": "python",
   "nbconvert_exporter": "python",
   "pygments_lexer": "ipython3",
   "version": "3.7.1"
  }
 },
 "nbformat": 4,
 "nbformat_minor": 2
}
